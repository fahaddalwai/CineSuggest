{
 "cells": [
  {
   "cell_type": "code",
   "execution_count": 1,
   "id": "c19073c2",
   "metadata": {
    "_cell_guid": "b1076dfc-b9ad-4769-8c92-a6c4dae69d19",
    "_uuid": "8f2839f25d086af736a60e9eeb907d3b93b6e0e5",
    "execution": {
     "iopub.execute_input": "2023-02-14T13:15:05.251471Z",
     "iopub.status.busy": "2023-02-14T13:15:05.250840Z",
     "iopub.status.idle": "2023-02-14T13:15:06.722038Z",
     "shell.execute_reply": "2023-02-14T13:15:06.719657Z"
    },
    "papermill": {
     "duration": 1.491496,
     "end_time": "2023-02-14T13:15:06.726065",
     "exception": false,
     "start_time": "2023-02-14T13:15:05.234569",
     "status": "completed"
    },
    "tags": []
   },
   "outputs": [
    {
     "name": "stdout",
     "output_type": "stream",
     "text": [
      "/kaggle/input/the-movies-dataset/ratings.csv\n",
      "/kaggle/input/the-movies-dataset/links_small.csv\n",
      "/kaggle/input/the-movies-dataset/credits.csv\n",
      "/kaggle/input/the-movies-dataset/keywords.csv\n",
      "/kaggle/input/the-movies-dataset/movies_metadata.csv\n",
      "/kaggle/input/the-movies-dataset/ratings_small.csv\n",
      "/kaggle/input/the-movies-dataset/links.csv\n",
      "/kaggle/input/tmdb-movie-metadata/tmdb_5000_movies.csv\n",
      "/kaggle/input/tmdb-movie-metadata/tmdb_5000_credits.csv\n"
     ]
    }
   ],
   "source": [
    "# This Python 3 environment comes with many helpful analytics libraries installed\n",
    "# It is defined by the kaggle/python Docker image: https://github.com/kaggle/docker-python\n",
    "# For example, here's several helpful packages to load\n",
    "\n",
    "import numpy as np # linear algebra\n",
    "import pandas as pd # data processing, CSV file I/O (e.g. pd.read_csv)\n",
    "import seaborn as sns\n",
    "import matplotlib.pyplot as plt\n",
    "# Input data files are available in the read-only \"../input/\" directory\n",
    "# For example, running this (by clicking run or pressing Shift+Enter) will list all files under the input directory\n",
    "\n",
    "import os\n",
    "for dirname, _, filenames in os.walk('/kaggle/input'):\n",
    "    for filename in filenames:\n",
    "        print(os.path.join(dirname, filename))\n",
    "\n",
    "# You can write up to 20GB to the current directory (/kaggle/working/) that gets preserved as output when you create a version using \"Save & Run All\" \n",
    "# You can also write temporary files to /kaggle/temp/, but they won't be saved outside of the current session"
   ]
  },
  {
   "cell_type": "markdown",
   "id": "26dd80c6",
   "metadata": {
    "papermill": {
     "duration": 0.018207,
     "end_time": "2023-02-14T13:15:06.757779",
     "exception": false,
     "start_time": "2023-02-14T13:15:06.739572",
     "status": "completed"
    },
    "tags": []
   },
   "source": [
    "Hey there! Today we will go about creating a movie recommendation system using data from the TMDB dataset. We'll make different types of recommendation systems such as a user based, demographic based, etc.  \n",
    "Lets start off with reading our dataset!"
   ]
  },
  {
   "cell_type": "code",
   "execution_count": 2,
   "id": "276f43d0",
   "metadata": {
    "execution": {
     "iopub.execute_input": "2023-02-14T13:15:06.792649Z",
     "iopub.status.busy": "2023-02-14T13:15:06.792113Z",
     "iopub.status.idle": "2023-02-14T13:15:08.042096Z",
     "shell.execute_reply": "2023-02-14T13:15:08.040530Z"
    },
    "papermill": {
     "duration": 1.269722,
     "end_time": "2023-02-14T13:15:08.045265",
     "exception": false,
     "start_time": "2023-02-14T13:15:06.775543",
     "status": "completed"
    },
    "tags": []
   },
   "outputs": [],
   "source": [
    "df1=pd.read_csv(\"/kaggle/input/tmdb-movie-metadata/tmdb_5000_credits.csv\")\n",
    "df2=pd.read_csv(\"/kaggle/input/tmdb-movie-metadata/tmdb_5000_movies.csv\")"
   ]
  },
  {
   "cell_type": "markdown",
   "id": "ec295b29",
   "metadata": {
    "papermill": {
     "duration": 0.012412,
     "end_time": "2023-02-14T13:15:08.070632",
     "exception": false,
     "start_time": "2023-02-14T13:15:08.058220",
     "status": "completed"
    },
    "tags": []
   },
   "source": [
    "We'll go ahead and merge them into a single dataframe..."
   ]
  },
  {
   "cell_type": "code",
   "execution_count": 3,
   "id": "e795e251",
   "metadata": {
    "execution": {
     "iopub.execute_input": "2023-02-14T13:15:08.097440Z",
     "iopub.status.busy": "2023-02-14T13:15:08.096483Z",
     "iopub.status.idle": "2023-02-14T13:15:08.134653Z",
     "shell.execute_reply": "2023-02-14T13:15:08.133304Z"
    },
    "papermill": {
     "duration": 0.05452,
     "end_time": "2023-02-14T13:15:08.137389",
     "exception": false,
     "start_time": "2023-02-14T13:15:08.082869",
     "status": "completed"
    },
    "tags": []
   },
   "outputs": [],
   "source": [
    "df1.columns = ['id','title','cast','crew']\n",
    "df2= df2.merge(df1,on='id')\n"
   ]
  },
  {
   "cell_type": "markdown",
   "id": "3ab7aa9e",
   "metadata": {
    "papermill": {
     "duration": 0.01267,
     "end_time": "2023-02-14T13:15:08.162344",
     "exception": false,
     "start_time": "2023-02-14T13:15:08.149674",
     "status": "completed"
    },
    "tags": []
   },
   "source": [
    "We've a lot of columns to play around with, so lets look at all of them and make educated decisions for our models. We'll firstly begin with the demographic based sysetm, and then move onto more complex ones!"
   ]
  },
  {
   "cell_type": "code",
   "execution_count": 4,
   "id": "78b705f4",
   "metadata": {
    "execution": {
     "iopub.execute_input": "2023-02-14T13:15:08.193950Z",
     "iopub.status.busy": "2023-02-14T13:15:08.192605Z",
     "iopub.status.idle": "2023-02-14T13:15:08.208239Z",
     "shell.execute_reply": "2023-02-14T13:15:08.206725Z"
    },
    "papermill": {
     "duration": 0.034013,
     "end_time": "2023-02-14T13:15:08.211321",
     "exception": false,
     "start_time": "2023-02-14T13:15:08.177308",
     "status": "completed"
    },
    "tags": []
   },
   "outputs": [
    {
     "data": {
      "text/plain": [
       "Index(['budget', 'genres', 'homepage', 'id', 'keywords', 'original_language',\n",
       "       'original_title', 'overview', 'popularity', 'production_companies',\n",
       "       'production_countries', 'release_date', 'revenue', 'runtime',\n",
       "       'spoken_languages', 'status', 'tagline', 'title_x', 'vote_average',\n",
       "       'vote_count', 'title_y', 'cast', 'crew'],\n",
       "      dtype='object')"
      ]
     },
     "execution_count": 4,
     "metadata": {},
     "output_type": "execute_result"
    }
   ],
   "source": [
    "df2.columns"
   ]
  },
  {
   "cell_type": "markdown",
   "id": "510de9b8",
   "metadata": {
    "papermill": {
     "duration": 0.013465,
     "end_time": "2023-02-14T13:15:08.239117",
     "exception": false,
     "start_time": "2023-02-14T13:15:08.225652",
     "status": "completed"
    },
    "tags": []
   },
   "source": [
    "# Demographic Filtering  \n",
    "Demographic filtering is a method used in movie recommendation systems to suggest movies to users based on their demographic characteristics, such as age, gender, and occupation. The system takes into account the demographic profiles of users and the demographic profiles of movies to match movies to users who have similar demographic characteristics.\n",
    "\n",
    "For example, if the recommendation system knows that a user is a young female, it might suggest romantic comedies or chick flicks that are more likely to appeal to that demographic. On the other hand, if the user is a middle-aged male, the system might suggest action or adventure movies.\n",
    "\n",
    "In order to make sense of our data, we will use IMDB's wieghted ratings in order to make it fair and even..."
   ]
  },
  {
   "cell_type": "code",
   "execution_count": 5,
   "id": "40d2de2b",
   "metadata": {
    "execution": {
     "iopub.execute_input": "2023-02-14T13:15:08.274759Z",
     "iopub.status.busy": "2023-02-14T13:15:08.274196Z",
     "iopub.status.idle": "2023-02-14T13:15:08.284204Z",
     "shell.execute_reply": "2023-02-14T13:15:08.282578Z"
    },
    "papermill": {
     "duration": 0.032991,
     "end_time": "2023-02-14T13:15:08.287241",
     "exception": false,
     "start_time": "2023-02-14T13:15:08.254250",
     "status": "completed"
    },
    "tags": []
   },
   "outputs": [
    {
     "data": {
      "text/plain": [
       "6.092171559442016"
      ]
     },
     "execution_count": 5,
     "metadata": {},
     "output_type": "execute_result"
    }
   ],
   "source": [
    "C= df2['vote_average'].mean()\n",
    "C"
   ]
  },
  {
   "cell_type": "code",
   "execution_count": 6,
   "id": "19148263",
   "metadata": {
    "execution": {
     "iopub.execute_input": "2023-02-14T13:15:08.318091Z",
     "iopub.status.busy": "2023-02-14T13:15:08.317641Z",
     "iopub.status.idle": "2023-02-14T13:15:08.328568Z",
     "shell.execute_reply": "2023-02-14T13:15:08.327286Z"
    },
    "papermill": {
     "duration": 0.031035,
     "end_time": "2023-02-14T13:15:08.332084",
     "exception": false,
     "start_time": "2023-02-14T13:15:08.301049",
     "status": "completed"
    },
    "tags": []
   },
   "outputs": [
    {
     "data": {
      "text/plain": [
       "1838.4000000000015"
      ]
     },
     "execution_count": 6,
     "metadata": {},
     "output_type": "execute_result"
    }
   ],
   "source": [
    "m= df2['vote_count'].quantile(0.9)\n",
    "m"
   ]
  },
  {
   "cell_type": "code",
   "execution_count": 7,
   "id": "286ae9c9",
   "metadata": {
    "execution": {
     "iopub.execute_input": "2023-02-14T13:15:08.360750Z",
     "iopub.status.busy": "2023-02-14T13:15:08.360224Z",
     "iopub.status.idle": "2023-02-14T13:15:08.378387Z",
     "shell.execute_reply": "2023-02-14T13:15:08.377072Z"
    },
    "papermill": {
     "duration": 0.036015,
     "end_time": "2023-02-14T13:15:08.381520",
     "exception": false,
     "start_time": "2023-02-14T13:15:08.345505",
     "status": "completed"
    },
    "tags": []
   },
   "outputs": [
    {
     "data": {
      "text/plain": [
       "(481, 23)"
      ]
     },
     "execution_count": 7,
     "metadata": {},
     "output_type": "execute_result"
    }
   ],
   "source": [
    "q_movies = df2.copy().loc[df2['vote_count'] >= m]\n",
    "q_movies.shape"
   ]
  },
  {
   "cell_type": "code",
   "execution_count": 8,
   "id": "35536189",
   "metadata": {
    "execution": {
     "iopub.execute_input": "2023-02-14T13:15:08.411496Z",
     "iopub.status.busy": "2023-02-14T13:15:08.411003Z",
     "iopub.status.idle": "2023-02-14T13:15:08.419749Z",
     "shell.execute_reply": "2023-02-14T13:15:08.417602Z"
    },
    "papermill": {
     "duration": 0.027549,
     "end_time": "2023-02-14T13:15:08.422711",
     "exception": false,
     "start_time": "2023-02-14T13:15:08.395162",
     "status": "completed"
    },
    "tags": []
   },
   "outputs": [],
   "source": [
    "def weighted_rating(x,m=m,C=C):\n",
    "    v=x['vote_count']\n",
    "    R=x['vote_average']\n",
    "    \n",
    "    return (v/(v+m)*R)+ (m/(m+v)*C)"
   ]
  },
  {
   "cell_type": "code",
   "execution_count": 9,
   "id": "aebf7543",
   "metadata": {
    "execution": {
     "iopub.execute_input": "2023-02-14T13:15:08.450601Z",
     "iopub.status.busy": "2023-02-14T13:15:08.450139Z",
     "iopub.status.idle": "2023-02-14T13:15:08.468376Z",
     "shell.execute_reply": "2023-02-14T13:15:08.467162Z"
    },
    "papermill": {
     "duration": 0.035011,
     "end_time": "2023-02-14T13:15:08.470945",
     "exception": false,
     "start_time": "2023-02-14T13:15:08.435934",
     "status": "completed"
    },
    "tags": []
   },
   "outputs": [],
   "source": [
    "q_movies['score'] = q_movies.apply(weighted_rating, axis=1)"
   ]
  },
  {
   "cell_type": "code",
   "execution_count": 10,
   "id": "5dad8c4d",
   "metadata": {
    "execution": {
     "iopub.execute_input": "2023-02-14T13:15:08.500406Z",
     "iopub.status.busy": "2023-02-14T13:15:08.500026Z",
     "iopub.status.idle": "2023-02-14T13:15:08.521702Z",
     "shell.execute_reply": "2023-02-14T13:15:08.520497Z"
    },
    "papermill": {
     "duration": 0.039033,
     "end_time": "2023-02-14T13:15:08.524651",
     "exception": false,
     "start_time": "2023-02-14T13:15:08.485618",
     "status": "completed"
    },
    "tags": []
   },
   "outputs": [
    {
     "data": {
      "text/html": [
       "<div>\n",
       "<style scoped>\n",
       "    .dataframe tbody tr th:only-of-type {\n",
       "        vertical-align: middle;\n",
       "    }\n",
       "\n",
       "    .dataframe tbody tr th {\n",
       "        vertical-align: top;\n",
       "    }\n",
       "\n",
       "    .dataframe thead th {\n",
       "        text-align: right;\n",
       "    }\n",
       "</style>\n",
       "<table border=\"1\" class=\"dataframe\">\n",
       "  <thead>\n",
       "    <tr style=\"text-align: right;\">\n",
       "      <th></th>\n",
       "      <th>title_y</th>\n",
       "      <th>vote_count</th>\n",
       "      <th>vote_average</th>\n",
       "      <th>score</th>\n",
       "    </tr>\n",
       "  </thead>\n",
       "  <tbody>\n",
       "    <tr>\n",
       "      <th>1881</th>\n",
       "      <td>The Shawshank Redemption</td>\n",
       "      <td>8205</td>\n",
       "      <td>8.5</td>\n",
       "      <td>8.059258</td>\n",
       "    </tr>\n",
       "    <tr>\n",
       "      <th>662</th>\n",
       "      <td>Fight Club</td>\n",
       "      <td>9413</td>\n",
       "      <td>8.3</td>\n",
       "      <td>7.939256</td>\n",
       "    </tr>\n",
       "    <tr>\n",
       "      <th>65</th>\n",
       "      <td>The Dark Knight</td>\n",
       "      <td>12002</td>\n",
       "      <td>8.2</td>\n",
       "      <td>7.920020</td>\n",
       "    </tr>\n",
       "    <tr>\n",
       "      <th>3232</th>\n",
       "      <td>Pulp Fiction</td>\n",
       "      <td>8428</td>\n",
       "      <td>8.3</td>\n",
       "      <td>7.904645</td>\n",
       "    </tr>\n",
       "    <tr>\n",
       "      <th>96</th>\n",
       "      <td>Inception</td>\n",
       "      <td>13752</td>\n",
       "      <td>8.1</td>\n",
       "      <td>7.863239</td>\n",
       "    </tr>\n",
       "    <tr>\n",
       "      <th>3337</th>\n",
       "      <td>The Godfather</td>\n",
       "      <td>5893</td>\n",
       "      <td>8.4</td>\n",
       "      <td>7.851236</td>\n",
       "    </tr>\n",
       "    <tr>\n",
       "      <th>95</th>\n",
       "      <td>Interstellar</td>\n",
       "      <td>10867</td>\n",
       "      <td>8.1</td>\n",
       "      <td>7.809479</td>\n",
       "    </tr>\n",
       "    <tr>\n",
       "      <th>809</th>\n",
       "      <td>Forrest Gump</td>\n",
       "      <td>7927</td>\n",
       "      <td>8.2</td>\n",
       "      <td>7.803188</td>\n",
       "    </tr>\n",
       "    <tr>\n",
       "      <th>329</th>\n",
       "      <td>The Lord of the Rings: The Return of the King</td>\n",
       "      <td>8064</td>\n",
       "      <td>8.1</td>\n",
       "      <td>7.727243</td>\n",
       "    </tr>\n",
       "    <tr>\n",
       "      <th>1990</th>\n",
       "      <td>The Empire Strikes Back</td>\n",
       "      <td>5879</td>\n",
       "      <td>8.2</td>\n",
       "      <td>7.697884</td>\n",
       "    </tr>\n",
       "  </tbody>\n",
       "</table>\n",
       "</div>"
      ],
      "text/plain": [
       "                                            title_y  vote_count  vote_average  \\\n",
       "1881                       The Shawshank Redemption        8205           8.5   \n",
       "662                                      Fight Club        9413           8.3   \n",
       "65                                  The Dark Knight       12002           8.2   \n",
       "3232                                   Pulp Fiction        8428           8.3   \n",
       "96                                        Inception       13752           8.1   \n",
       "3337                                  The Godfather        5893           8.4   \n",
       "95                                     Interstellar       10867           8.1   \n",
       "809                                    Forrest Gump        7927           8.2   \n",
       "329   The Lord of the Rings: The Return of the King        8064           8.1   \n",
       "1990                        The Empire Strikes Back        5879           8.2   \n",
       "\n",
       "         score  \n",
       "1881  8.059258  \n",
       "662   7.939256  \n",
       "65    7.920020  \n",
       "3232  7.904645  \n",
       "96    7.863239  \n",
       "3337  7.851236  \n",
       "95    7.809479  \n",
       "809   7.803188  \n",
       "329   7.727243  \n",
       "1990  7.697884  "
      ]
     },
     "execution_count": 10,
     "metadata": {},
     "output_type": "execute_result"
    }
   ],
   "source": [
    "q_movies=q_movies.sort_values(by='score',ascending=False)\n",
    "q_movies.head(10)[['title_y', 'vote_count', 'vote_average', 'score']]"
   ]
  },
  {
   "cell_type": "markdown",
   "id": "c5df522a",
   "metadata": {
    "papermill": {
     "duration": 0.014293,
     "end_time": "2023-02-14T13:15:08.552161",
     "exception": false,
     "start_time": "2023-02-14T13:15:08.537868",
     "status": "completed"
    },
    "tags": []
   },
   "source": [
    "On a similair note, we can go ahead and make use of the popularity column to suggest popularity metrics and recommend movies based on that."
   ]
  },
  {
   "cell_type": "code",
   "execution_count": 11,
   "id": "f6d795e1",
   "metadata": {
    "execution": {
     "iopub.execute_input": "2023-02-14T13:15:08.581790Z",
     "iopub.status.busy": "2023-02-14T13:15:08.580522Z",
     "iopub.status.idle": "2023-02-14T13:15:08.804451Z",
     "shell.execute_reply": "2023-02-14T13:15:08.803223Z"
    },
    "papermill": {
     "duration": 0.241447,
     "end_time": "2023-02-14T13:15:08.807209",
     "exception": false,
     "start_time": "2023-02-14T13:15:08.565762",
     "status": "completed"
    },
    "tags": []
   },
   "outputs": [
    {
     "data": {
      "text/plain": [
       "Text(0.5, 1.0, 'Popular Movies')"
      ]
     },
     "execution_count": 11,
     "metadata": {},
     "output_type": "execute_result"
    },
    {
     "data": {
      "image/png": "[encoded data removed]",
      "text/plain": [
       "<Figure size 864x288 with 1 Axes>"
      ]
     },
     "metadata": {
      "needs_background": "light"
     },
     "output_type": "display_data"
    }
   ],
   "source": [
    "pop= df2.sort_values('popularity', ascending=False)\n",
    "plt.figure(figsize=(12,4))\n",
    "\n",
    "plt.barh(pop['title_y'].head(6),pop['popularity'].head(6), align='center',\n",
    "        color='skyblue')\n",
    "plt.gca().invert_yaxis()\n",
    "plt.xlabel(\"Popularity\")\n",
    "plt.title(\"Popular Movies\")"
   ]
  },
  {
   "cell_type": "code",
   "execution_count": 12,
   "id": "dce115f5",
   "metadata": {
    "execution": {
     "iopub.execute_input": "2023-02-14T13:15:08.839570Z",
     "iopub.status.busy": "2023-02-14T13:15:08.837790Z",
     "iopub.status.idle": "2023-02-14T13:15:08.850673Z",
     "shell.execute_reply": "2023-02-14T13:15:08.848904Z"
    },
    "papermill": {
     "duration": 0.03387,
     "end_time": "2023-02-14T13:15:08.854730",
     "exception": false,
     "start_time": "2023-02-14T13:15:08.820860",
     "status": "completed"
    },
    "tags": []
   },
   "outputs": [
    {
     "data": {
      "text/plain": [
       "0    In the 22nd century, a paraplegic Marine is di...\n",
       "1    Captain Barbossa, long believed to be dead, ha...\n",
       "2    A cryptic message from Bond’s past sends him o...\n",
       "3    Following the death of District Attorney Harve...\n",
       "4    John Carter is a war-weary, former military ca...\n",
       "Name: overview, dtype: object"
      ]
     },
     "execution_count": 12,
     "metadata": {},
     "output_type": "execute_result"
    }
   ],
   "source": [
    "df2['overview'].head(5)"
   ]
  },
  {
   "cell_type": "markdown",
   "id": "0fbb6355",
   "metadata": {
    "papermill": {
     "duration": 0.015548,
     "end_time": "2023-02-14T13:15:08.886214",
     "exception": false,
     "start_time": "2023-02-14T13:15:08.870666",
     "status": "completed"
    },
    "tags": []
   },
   "source": [
    "However our model here is not very personalized, and generates a common list of movies that is not unique to anyone and is very generic. We'll go ahead with a conten based filtering method to better optimize our recommendations."
   ]
  },
  {
   "cell_type": "markdown",
   "id": "5c3e0326",
   "metadata": {
    "papermill": {
     "duration": 0.015742,
     "end_time": "2023-02-14T13:15:08.920228",
     "exception": false,
     "start_time": "2023-02-14T13:15:08.904486",
     "status": "completed"
    },
    "tags": []
   },
   "source": [
    "# Content Based Filtering  \n",
    "Content-based filtering is a method used in movie recommendation systems to suggest movies to users based on the content of the movies and the preferences of the users. The system analyzes the content of the movies, such as their genre, actors, directors, and keywords, and uses this information to determine which movies are similar to each other.\n",
    "\n",
    "For example, if a user has watched and liked several action movies, the recommendation system might suggest other action movies that have similar content, such as similar actors, directors, or genre. The system takes into account the user's viewing history and preferences and suggests movies that are most similar to the movies the user has liked in the past.\n",
    "\n",
    "\n"
   ]
  },
  {
   "cell_type": "markdown",
   "id": "61212640",
   "metadata": {
    "papermill": {
     "duration": 0.017006,
     "end_time": "2023-02-14T13:15:08.952188",
     "exception": false,
     "start_time": "2023-02-14T13:15:08.935182",
     "status": "completed"
    },
    "tags": []
   },
   "source": [
    "Scikit fortunately provides a beautiful method that lets us make our tfidf matrix."
   ]
  },
  {
   "cell_type": "code",
   "execution_count": 13,
   "id": "fb4b7769",
   "metadata": {
    "execution": {
     "iopub.execute_input": "2023-02-14T13:15:08.985291Z",
     "iopub.status.busy": "2023-02-14T13:15:08.984537Z",
     "iopub.status.idle": "2023-02-14T13:15:09.533116Z",
     "shell.execute_reply": "2023-02-14T13:15:09.531848Z"
    },
    "papermill": {
     "duration": 0.567902,
     "end_time": "2023-02-14T13:15:09.535598",
     "exception": false,
     "start_time": "2023-02-14T13:15:08.967696",
     "status": "completed"
    },
    "tags": []
   },
   "outputs": [
    {
     "data": {
      "text/plain": [
       "(4803, 20978)"
      ]
     },
     "execution_count": 13,
     "metadata": {},
     "output_type": "execute_result"
    }
   ],
   "source": [
    "from sklearn.feature_extraction.text import TfidfVectorizer\n",
    "\n",
    "tfidf=TfidfVectorizer(stop_words='english')\n",
    "\n",
    "df2['overview']=df2['overview'].fillna('')\n",
    "\n",
    "tfidf_matrix=tfidf.fit_transform(df2['overview'])\n",
    "\n",
    "\n",
    "tfidf_matrix.shape"
   ]
  },
  {
   "cell_type": "markdown",
   "id": "e888d7cb",
   "metadata": {
    "papermill": {
     "duration": 0.013504,
     "end_time": "2023-02-14T13:15:09.564850",
     "exception": false,
     "start_time": "2023-02-14T13:15:09.551346",
     "status": "completed"
    },
    "tags": []
   },
   "source": [
    "TF-IDF stands for Term Frequency-Inverse Document Frequency. It's a numerical statistic used to evaluate how important a word is to a document within a collection of documents (such as a corpus). The term frequency (TF) is the number of times a word appears in a document, while the inverse document frequency (IDF) is a measure of how rare the word is across the entire collection of documents.\n",
    "\n",
    "The TF-IDF value for a word is calculated by multiplying its term frequency in a document by its inverse document frequency across the entire collection of documents. Words that are common in a document but rare in the collection of documents will have a high TF-IDF value, while words that are common in both the document and the collection of documents will have a low TF-IDF value."
   ]
  },
  {
   "cell_type": "markdown",
   "id": "fda094a8",
   "metadata": {
    "papermill": {
     "duration": 0.015467,
     "end_time": "2023-02-14T13:15:09.594014",
     "exception": false,
     "start_time": "2023-02-14T13:15:09.578547",
     "status": "completed"
    },
    "tags": []
   },
   "source": [
    "Now how do we find similairty for each of these terms in our tf idf? We go ahead with cosine similarityy to get the commonality and recommend movies based on the most similair content."
   ]
  },
  {
   "cell_type": "code",
   "execution_count": 14,
   "id": "89174408",
   "metadata": {
    "execution": {
     "iopub.execute_input": "2023-02-14T13:15:09.625250Z",
     "iopub.status.busy": "2023-02-14T13:15:09.624651Z",
     "iopub.status.idle": "2023-02-14T13:15:10.233584Z",
     "shell.execute_reply": "2023-02-14T13:15:10.232380Z"
    },
    "papermill": {
     "duration": 0.628219,
     "end_time": "2023-02-14T13:15:10.236668",
     "exception": false,
     "start_time": "2023-02-14T13:15:09.608449",
     "status": "completed"
    },
    "tags": []
   },
   "outputs": [
    {
     "data": {
      "text/plain": [
       "(4803, 4803)"
      ]
     },
     "execution_count": 14,
     "metadata": {},
     "output_type": "execute_result"
    }
   ],
   "source": [
    "from sklearn.metrics.pairwise import linear_kernel\n",
    "\n",
    "cosine_sim = linear_kernel(tfidf_matrix, tfidf_matrix)\n",
    "\n",
    "cosine_sim.shape"
   ]
  },
  {
   "cell_type": "code",
   "execution_count": 15,
   "id": "f3870919",
   "metadata": {
    "execution": {
     "iopub.execute_input": "2023-02-14T13:15:10.273440Z",
     "iopub.status.busy": "2023-02-14T13:15:10.272922Z",
     "iopub.status.idle": "2023-02-14T13:15:10.283582Z",
     "shell.execute_reply": "2023-02-14T13:15:10.282580Z"
    },
    "papermill": {
     "duration": 0.031669,
     "end_time": "2023-02-14T13:15:10.286055",
     "exception": false,
     "start_time": "2023-02-14T13:15:10.254386",
     "status": "completed"
    },
    "tags": []
   },
   "outputs": [
    {
     "data": {
      "text/plain": [
       "3"
      ]
     },
     "execution_count": 15,
     "metadata": {},
     "output_type": "execute_result"
    }
   ],
   "source": [
    "indices=pd.Series(df2.index,index=df2['title_y']).drop_duplicates()\n",
    "indices.iloc[3]"
   ]
  },
  {
   "cell_type": "markdown",
   "id": "6aa3deb8",
   "metadata": {
    "papermill": {
     "duration": 0.015502,
     "end_time": "2023-02-14T13:15:10.316738",
     "exception": false,
     "start_time": "2023-02-14T13:15:10.301236",
     "status": "completed"
    },
    "tags": []
   },
   "source": [
    "The following function below performs the tasks:  \n",
    "1.Get movie by index  \n",
    "2.Get all similairty index with the movie  \n",
    "3.Retrieve top 10 most similair movie from this cosine matrix"
   ]
  },
  {
   "cell_type": "code",
   "execution_count": 16,
   "id": "f966de4d",
   "metadata": {
    "execution": {
     "iopub.execute_input": "2023-02-14T13:15:10.349953Z",
     "iopub.status.busy": "2023-02-14T13:15:10.349454Z",
     "iopub.status.idle": "2023-02-14T13:15:10.358038Z",
     "shell.execute_reply": "2023-02-14T13:15:10.356282Z"
    },
    "papermill": {
     "duration": 0.028723,
     "end_time": "2023-02-14T13:15:10.361666",
     "exception": false,
     "start_time": "2023-02-14T13:15:10.332943",
     "status": "completed"
    },
    "tags": []
   },
   "outputs": [],
   "source": [
    "def get_recommendations(title, cosine_sim=cosine_sim):\n",
    "    #Get index given the title\n",
    "    idx=indices[title]\n",
    "    \n",
    "    #Get similarty score of all movies with that movie\n",
    "    sim_scores=list(enumerate(cosine_sim[idx]))\n",
    "    \n",
    "    \n",
    "    sim_scores = sorted(sim_scores,key=lambda x: x[1],reverse=True)\n",
    "    \n",
    "    sim_scores = sim_scores[1:11]\n",
    "   \n",
    "    movie_indices = [i[0] for i in sim_scores]\n",
    "    \n",
    "    return df2['title_y'].iloc[movie_indices]"
   ]
  },
  {
   "cell_type": "markdown",
   "id": "a3a5b686",
   "metadata": {
    "papermill": {
     "duration": 0.016338,
     "end_time": "2023-02-14T13:15:10.394658",
     "exception": false,
     "start_time": "2023-02-14T13:15:10.378320",
     "status": "completed"
    },
    "tags": []
   },
   "source": [
    "Lets try our system out!"
   ]
  },
  {
   "cell_type": "code",
   "execution_count": 17,
   "id": "5b2c8df1",
   "metadata": {
    "execution": {
     "iopub.execute_input": "2023-02-14T13:15:10.428903Z",
     "iopub.status.busy": "2023-02-14T13:15:10.428059Z",
     "iopub.status.idle": "2023-02-14T13:15:10.444261Z",
     "shell.execute_reply": "2023-02-14T13:15:10.442925Z"
    },
    "papermill": {
     "duration": 0.036993,
     "end_time": "2023-02-14T13:15:10.447236",
     "exception": false,
     "start_time": "2023-02-14T13:15:10.410243",
     "status": "completed"
    },
    "tags": []
   },
   "outputs": [
    {
     "data": {
      "text/plain": [
       "65                              The Dark Knight\n",
       "299                              Batman Forever\n",
       "428                              Batman Returns\n",
       "1359                                     Batman\n",
       "3854    Batman: The Dark Knight Returns, Part 2\n",
       "119                               Batman Begins\n",
       "2507                                  Slow Burn\n",
       "9            Batman v Superman: Dawn of Justice\n",
       "1181                                        JFK\n",
       "210                              Batman & Robin\n",
       "Name: title_y, dtype: object"
      ]
     },
     "execution_count": 17,
     "metadata": {},
     "output_type": "execute_result"
    }
   ],
   "source": [
    "get_recommendations('The Dark Knight Rises')"
   ]
  },
  {
   "cell_type": "markdown",
   "id": "2afb3791",
   "metadata": {
    "papermill": {
     "duration": 0.015473,
     "end_time": "2023-02-14T13:15:10.478480",
     "exception": false,
     "start_time": "2023-02-14T13:15:10.463007",
     "status": "completed"
    },
    "tags": []
   },
   "source": [
    "Works well! However, it would be better if we could make use of a bit more features such as cast, etc. Lets go ahead and do that now."
   ]
  },
  {
   "cell_type": "code",
   "execution_count": 18,
   "id": "b38599a4",
   "metadata": {
    "execution": {
     "iopub.execute_input": "2023-02-14T13:15:10.511930Z",
     "iopub.status.busy": "2023-02-14T13:15:10.511474Z",
     "iopub.status.idle": "2023-02-14T13:15:19.039852Z",
     "shell.execute_reply": "2023-02-14T13:15:19.037918Z"
    },
    "papermill": {
     "duration": 8.548922,
     "end_time": "2023-02-14T13:15:19.043298",
     "exception": false,
     "start_time": "2023-02-14T13:15:10.494376",
     "status": "completed"
    },
    "tags": []
   },
   "outputs": [],
   "source": [
    "# Parse the stringified features into their corresponding python objects\n",
    "from ast import literal_eval\n",
    "\n",
    "features = ['cast', 'crew', 'keywords', 'genres']\n",
    "for feature in features:\n",
    "    df2[feature] = df2[feature].apply(literal_eval)"
   ]
  },
  {
   "cell_type": "code",
   "execution_count": 19,
   "id": "36adc4d4",
   "metadata": {
    "execution": {
     "iopub.execute_input": "2023-02-14T13:15:19.074133Z",
     "iopub.status.busy": "2023-02-14T13:15:19.073686Z",
     "iopub.status.idle": "2023-02-14T13:15:19.080781Z",
     "shell.execute_reply": "2023-02-14T13:15:19.078984Z"
    },
    "papermill": {
     "duration": 0.025922,
     "end_time": "2023-02-14T13:15:19.083538",
     "exception": false,
     "start_time": "2023-02-14T13:15:19.057616",
     "status": "completed"
    },
    "tags": []
   },
   "outputs": [],
   "source": [
    "# Get the director's name from the crew feature. If director is not listed, return NaN\n",
    "def get_director(x):\n",
    "    for i in x:\n",
    "        if i['job'] == 'Director':\n",
    "            return i['name']\n",
    "    return np.nan"
   ]
  },
  {
   "cell_type": "code",
   "execution_count": 20,
   "id": "6eec0d09",
   "metadata": {
    "execution": {
     "iopub.execute_input": "2023-02-14T13:15:19.114866Z",
     "iopub.status.busy": "2023-02-14T13:15:19.113846Z",
     "iopub.status.idle": "2023-02-14T13:15:19.120554Z",
     "shell.execute_reply": "2023-02-14T13:15:19.119515Z"
    },
    "papermill": {
     "duration": 0.025795,
     "end_time": "2023-02-14T13:15:19.123510",
     "exception": false,
     "start_time": "2023-02-14T13:15:19.097715",
     "status": "completed"
    },
    "tags": []
   },
   "outputs": [],
   "source": [
    "# Returns the list top 3 elements or entire list; whichever is more.\n",
    "def get_list(x):\n",
    "    if isinstance(x, list):\n",
    "        names = [i['name'] for i in x]\n",
    "        #Check if more than 3 elements exist. If yes, return only first three. If no, return entire list.\n",
    "        if len(names) > 3:\n",
    "            names = names[:3]\n",
    "        return names\n",
    "\n",
    "    #Return empty list in case of missing/malformed data\n",
    "    return []"
   ]
  },
  {
   "cell_type": "code",
   "execution_count": 21,
   "id": "0bc07a2d",
   "metadata": {
    "execution": {
     "iopub.execute_input": "2023-02-14T13:15:19.162759Z",
     "iopub.status.busy": "2023-02-14T13:15:19.161486Z",
     "iopub.status.idle": "2023-02-14T13:15:19.284901Z",
     "shell.execute_reply": "2023-02-14T13:15:19.283484Z"
    },
    "papermill": {
     "duration": 0.1477,
     "end_time": "2023-02-14T13:15:19.288160",
     "exception": false,
     "start_time": "2023-02-14T13:15:19.140460",
     "status": "completed"
    },
    "tags": []
   },
   "outputs": [],
   "source": [
    "df2['director'] = df2['crew'].apply(get_director)\n",
    "\n",
    "features = ['cast', 'keywords', 'genres']\n",
    "for feature in features:\n",
    "    df2[feature] = df2[feature].apply(get_list)"
   ]
  },
  {
   "cell_type": "code",
   "execution_count": 22,
   "id": "b164da11",
   "metadata": {
    "execution": {
     "iopub.execute_input": "2023-02-14T13:15:19.322707Z",
     "iopub.status.busy": "2023-02-14T13:15:19.321789Z",
     "iopub.status.idle": "2023-02-14T13:15:19.349502Z",
     "shell.execute_reply": "2023-02-14T13:15:19.347545Z"
    },
    "papermill": {
     "duration": 0.047253,
     "end_time": "2023-02-14T13:15:19.352253",
     "exception": false,
     "start_time": "2023-02-14T13:15:19.305000",
     "status": "completed"
    },
    "tags": []
   },
   "outputs": [
    {
     "data": {
      "text/html": [
       "<div>\n",
       "<style scoped>\n",
       "    .dataframe tbody tr th:only-of-type {\n",
       "        vertical-align: middle;\n",
       "    }\n",
       "\n",
       "    .dataframe tbody tr th {\n",
       "        vertical-align: top;\n",
       "    }\n",
       "\n",
       "    .dataframe thead th {\n",
       "        text-align: right;\n",
       "    }\n",
       "</style>\n",
       "<table border=\"1\" class=\"dataframe\">\n",
       "  <thead>\n",
       "    <tr style=\"text-align: right;\">\n",
       "      <th></th>\n",
       "      <th>title_y</th>\n",
       "      <th>cast</th>\n",
       "      <th>director</th>\n",
       "      <th>keywords</th>\n",
       "      <th>genres</th>\n",
       "    </tr>\n",
       "  </thead>\n",
       "  <tbody>\n",
       "    <tr>\n",
       "      <th>0</th>\n",
       "      <td>Avatar</td>\n",
       "      <td>[Sam Worthington, Zoe Saldana, Sigourney Weaver]</td>\n",
       "      <td>James Cameron</td>\n",
       "      <td>[culture clash, future, space war]</td>\n",
       "      <td>[Action, Adventure, Fantasy]</td>\n",
       "    </tr>\n",
       "    <tr>\n",
       "      <th>1</th>\n",
       "      <td>Pirates of the Caribbean: At World's End</td>\n",
       "      <td>[Johnny Depp, Orlando Bloom, Keira Knightley]</td>\n",
       "      <td>Gore Verbinski</td>\n",
       "      <td>[ocean, drug abuse, exotic island]</td>\n",
       "      <td>[Adventure, Fantasy, Action]</td>\n",
       "    </tr>\n",
       "    <tr>\n",
       "      <th>2</th>\n",
       "      <td>Spectre</td>\n",
       "      <td>[Daniel Craig, Christoph Waltz, Léa Seydoux]</td>\n",
       "      <td>Sam Mendes</td>\n",
       "      <td>[spy, based on novel, secret agent]</td>\n",
       "      <td>[Action, Adventure, Crime]</td>\n",
       "    </tr>\n",
       "  </tbody>\n",
       "</table>\n",
       "</div>"
      ],
      "text/plain": [
       "                                    title_y  \\\n",
       "0                                    Avatar   \n",
       "1  Pirates of the Caribbean: At World's End   \n",
       "2                                   Spectre   \n",
       "\n",
       "                                               cast        director  \\\n",
       "0  [Sam Worthington, Zoe Saldana, Sigourney Weaver]   James Cameron   \n",
       "1     [Johnny Depp, Orlando Bloom, Keira Knightley]  Gore Verbinski   \n",
       "2      [Daniel Craig, Christoph Waltz, Léa Seydoux]      Sam Mendes   \n",
       "\n",
       "                              keywords                        genres  \n",
       "0   [culture clash, future, space war]  [Action, Adventure, Fantasy]  \n",
       "1   [ocean, drug abuse, exotic island]  [Adventure, Fantasy, Action]  \n",
       "2  [spy, based on novel, secret agent]    [Action, Adventure, Crime]  "
      ]
     },
     "execution_count": 22,
     "metadata": {},
     "output_type": "execute_result"
    }
   ],
   "source": [
    "df2[['title_y', 'cast', 'director', 'keywords', 'genres']].head(3)"
   ]
  },
  {
   "cell_type": "code",
   "execution_count": 23,
   "id": "36ab1cb4",
   "metadata": {
    "execution": {
     "iopub.execute_input": "2023-02-14T13:15:19.383636Z",
     "iopub.status.busy": "2023-02-14T13:15:19.383218Z",
     "iopub.status.idle": "2023-02-14T13:15:19.391192Z",
     "shell.execute_reply": "2023-02-14T13:15:19.389694Z"
    },
    "papermill": {
     "duration": 0.02668,
     "end_time": "2023-02-14T13:15:19.393893",
     "exception": false,
     "start_time": "2023-02-14T13:15:19.367213",
     "status": "completed"
    },
    "tags": []
   },
   "outputs": [],
   "source": [
    "def clean_data(x):\n",
    "    if isinstance(x, list):\n",
    "        return [str.lower(i.replace(\" \", \"\")) for i in x]\n",
    "    else:\n",
    "        #Check if director exists. If not, return empty string\n",
    "        if isinstance(x, str):\n",
    "            return str.lower(x.replace(\" \", \"\"))\n",
    "        else:\n",
    "            return ''"
   ]
  },
  {
   "cell_type": "code",
   "execution_count": 24,
   "id": "31dcec3e",
   "metadata": {
    "execution": {
     "iopub.execute_input": "2023-02-14T13:15:19.425709Z",
     "iopub.status.busy": "2023-02-14T13:15:19.425299Z",
     "iopub.status.idle": "2023-02-14T13:15:19.635435Z",
     "shell.execute_reply": "2023-02-14T13:15:19.634198Z"
    },
    "papermill": {
     "duration": 0.228941,
     "end_time": "2023-02-14T13:15:19.638428",
     "exception": false,
     "start_time": "2023-02-14T13:15:19.409487",
     "status": "completed"
    },
    "tags": []
   },
   "outputs": [],
   "source": [
    "features = ['cast', 'keywords', 'director', 'genres']\n",
    "\n",
    "for feature in features:\n",
    "    df2[feature] = df2[feature].apply(clean_data)"
   ]
  },
  {
   "cell_type": "markdown",
   "id": "abb9d4e1",
   "metadata": {
    "papermill": {
     "duration": 0.016848,
     "end_time": "2023-02-14T13:15:19.672457",
     "exception": false,
     "start_time": "2023-02-14T13:15:19.655609",
     "status": "completed"
    },
    "tags": []
   },
   "source": [
    "Using all these features,  we will make our word soup which has all the important features and make the cosine similairt matrix again for all the movies"
   ]
  },
  {
   "cell_type": "code",
   "execution_count": 25,
   "id": "9399bd55",
   "metadata": {
    "execution": {
     "iopub.execute_input": "2023-02-14T13:15:19.714420Z",
     "iopub.status.busy": "2023-02-14T13:15:19.713966Z",
     "iopub.status.idle": "2023-02-14T13:15:19.859861Z",
     "shell.execute_reply": "2023-02-14T13:15:19.857933Z"
    },
    "papermill": {
     "duration": 0.168132,
     "end_time": "2023-02-14T13:15:19.862909",
     "exception": false,
     "start_time": "2023-02-14T13:15:19.694777",
     "status": "completed"
    },
    "tags": []
   },
   "outputs": [],
   "source": [
    "def create_soup(x):\n",
    "    return ' '.join(x['keywords']) + ' ' + ' '.join(x['cast']) + ' ' + x['director'] + ' ' + ' '.join(x['genres'])\n",
    "df2['soup'] = df2.apply(create_soup, axis=1)"
   ]
  },
  {
   "cell_type": "markdown",
   "id": "36a0eef3",
   "metadata": {
    "papermill": {
     "duration": 0.016766,
     "end_time": "2023-02-14T13:15:19.896554",
     "exception": false,
     "start_time": "2023-02-14T13:15:19.879788",
     "status": "completed"
    },
    "tags": []
   },
   "source": [
    "Notice how we'll use countvectorizer and not tf-idf, since we dont want lesser used terms to be weighted, since that makes no sense!"
   ]
  },
  {
   "cell_type": "code",
   "execution_count": 26,
   "id": "b7ef3a41",
   "metadata": {
    "execution": {
     "iopub.execute_input": "2023-02-14T13:15:19.932743Z",
     "iopub.status.busy": "2023-02-14T13:15:19.932291Z",
     "iopub.status.idle": "2023-02-14T13:15:20.032515Z",
     "shell.execute_reply": "2023-02-14T13:15:20.031165Z"
    },
    "papermill": {
     "duration": 0.121649,
     "end_time": "2023-02-14T13:15:20.035440",
     "exception": false,
     "start_time": "2023-02-14T13:15:19.913791",
     "status": "completed"
    },
    "tags": []
   },
   "outputs": [],
   "source": [
    "from sklearn.feature_extraction.text import CountVectorizer\n",
    "\n",
    "count = CountVectorizer(stop_words='english')\n",
    "count_matrix = count.fit_transform(df2['soup'])"
   ]
  },
  {
   "cell_type": "code",
   "execution_count": 27,
   "id": "6e78f77b",
   "metadata": {
    "execution": {
     "iopub.execute_input": "2023-02-14T13:15:20.068128Z",
     "iopub.status.busy": "2023-02-14T13:15:20.067664Z",
     "iopub.status.idle": "2023-02-14T13:15:20.725635Z",
     "shell.execute_reply": "2023-02-14T13:15:20.724070Z"
    },
    "papermill": {
     "duration": 0.678829,
     "end_time": "2023-02-14T13:15:20.729539",
     "exception": false,
     "start_time": "2023-02-14T13:15:20.050710",
     "status": "completed"
    },
    "tags": []
   },
   "outputs": [],
   "source": [
    "from sklearn.metrics.pairwise import cosine_similarity\n",
    "\n",
    "cosine_sim2 = cosine_similarity(count_matrix, count_matrix)"
   ]
  },
  {
   "cell_type": "code",
   "execution_count": 28,
   "id": "03d36eca",
   "metadata": {
    "execution": {
     "iopub.execute_input": "2023-02-14T13:15:20.764453Z",
     "iopub.status.busy": "2023-02-14T13:15:20.763674Z",
     "iopub.status.idle": "2023-02-14T13:15:20.782520Z",
     "shell.execute_reply": "2023-02-14T13:15:20.779738Z"
    },
    "papermill": {
     "duration": 0.041316,
     "end_time": "2023-02-14T13:15:20.786480",
     "exception": false,
     "start_time": "2023-02-14T13:15:20.745164",
     "status": "completed"
    },
    "tags": []
   },
   "outputs": [],
   "source": [
    "df2 = df2.reset_index()\n",
    "indices = pd.Series(df2.index, index=df2['title_y'])"
   ]
  },
  {
   "cell_type": "code",
   "execution_count": 29,
   "id": "455681d8",
   "metadata": {
    "execution": {
     "iopub.execute_input": "2023-02-14T13:15:20.821844Z",
     "iopub.status.busy": "2023-02-14T13:15:20.819520Z",
     "iopub.status.idle": "2023-02-14T13:15:20.837207Z",
     "shell.execute_reply": "2023-02-14T13:15:20.836162Z"
    },
    "papermill": {
     "duration": 0.038149,
     "end_time": "2023-02-14T13:15:20.840591",
     "exception": false,
     "start_time": "2023-02-14T13:15:20.802442",
     "status": "completed"
    },
    "tags": []
   },
   "outputs": [
    {
     "data": {
      "text/plain": [
       "65               The Dark Knight\n",
       "119                Batman Begins\n",
       "4638    Amidst the Devil's Wings\n",
       "1196                The Prestige\n",
       "3073           Romeo Is Bleeding\n",
       "3326              Black November\n",
       "1503                      Takers\n",
       "1986                      Faster\n",
       "303                     Catwoman\n",
       "747               Gangster Squad\n",
       "Name: title_y, dtype: object"
      ]
     },
     "execution_count": 29,
     "metadata": {},
     "output_type": "execute_result"
    }
   ],
   "source": [
    "get_recommendations('The Dark Knight Rises', cosine_sim2)"
   ]
  },
  {
   "cell_type": "markdown",
   "id": "f705dfbb",
   "metadata": {
    "papermill": {
     "duration": 0.017486,
     "end_time": "2023-02-14T13:15:20.875004",
     "exception": false,
     "start_time": "2023-02-14T13:15:20.857518",
     "status": "completed"
    },
    "tags": []
   },
   "source": [
    "This works extremely well! Good job! However we still have a major drawback in the sense that our system does not recommend new content and sticsk to similair content that is already knowm. So how do we go about recommending newer content to our user? One way is through user collaboration  method.  \n",
    "Collaborative filtering is a method used in movie recommendation systems to suggest movies to users based on the preferences and behaviors of other users. The system does not analyze the content of the movies, but instead focuses on the relationships between users and movies.  \n",
    "We use the surprise library to read a new dataset that has userids and create a recommendation system centered around the user."
   ]
  },
  {
   "cell_type": "code",
   "execution_count": 30,
   "id": "ef382a92",
   "metadata": {
    "execution": {
     "iopub.execute_input": "2023-02-14T13:15:20.907892Z",
     "iopub.status.busy": "2023-02-14T13:15:20.907004Z",
     "iopub.status.idle": "2023-02-14T13:15:20.943565Z",
     "shell.execute_reply": "2023-02-14T13:15:20.941673Z"
    },
    "papermill": {
     "duration": 0.056002,
     "end_time": "2023-02-14T13:15:20.946584",
     "exception": false,
     "start_time": "2023-02-14T13:15:20.890582",
     "status": "completed"
    },
    "tags": []
   },
   "outputs": [
    {
     "data": {
      "text/html": [
       "<div>\n",
       "<style scoped>\n",
       "    .dataframe tbody tr th:only-of-type {\n",
       "        vertical-align: middle;\n",
       "    }\n",
       "\n",
       "    .dataframe tbody tr th {\n",
       "        vertical-align: top;\n",
       "    }\n",
       "\n",
       "    .dataframe thead th {\n",
       "        text-align: right;\n",
       "    }\n",
       "</style>\n",
       "<table border=\"1\" class=\"dataframe\">\n",
       "  <thead>\n",
       "    <tr style=\"text-align: right;\">\n",
       "      <th></th>\n",
       "      <th>movieId</th>\n",
       "      <th>imdbId</th>\n",
       "      <th>tmdbId</th>\n",
       "    </tr>\n",
       "  </thead>\n",
       "  <tbody>\n",
       "    <tr>\n",
       "      <th>0</th>\n",
       "      <td>1</td>\n",
       "      <td>114709</td>\n",
       "      <td>862.0</td>\n",
       "    </tr>\n",
       "    <tr>\n",
       "      <th>1</th>\n",
       "      <td>2</td>\n",
       "      <td>113497</td>\n",
       "      <td>8844.0</td>\n",
       "    </tr>\n",
       "    <tr>\n",
       "      <th>2</th>\n",
       "      <td>3</td>\n",
       "      <td>113228</td>\n",
       "      <td>15602.0</td>\n",
       "    </tr>\n",
       "    <tr>\n",
       "      <th>3</th>\n",
       "      <td>4</td>\n",
       "      <td>114885</td>\n",
       "      <td>31357.0</td>\n",
       "    </tr>\n",
       "    <tr>\n",
       "      <th>4</th>\n",
       "      <td>5</td>\n",
       "      <td>113041</td>\n",
       "      <td>11862.0</td>\n",
       "    </tr>\n",
       "    <tr>\n",
       "      <th>...</th>\n",
       "      <td>...</td>\n",
       "      <td>...</td>\n",
       "      <td>...</td>\n",
       "    </tr>\n",
       "    <tr>\n",
       "      <th>9120</th>\n",
       "      <td>162672</td>\n",
       "      <td>3859980</td>\n",
       "      <td>402672.0</td>\n",
       "    </tr>\n",
       "    <tr>\n",
       "      <th>9121</th>\n",
       "      <td>163056</td>\n",
       "      <td>4262980</td>\n",
       "      <td>315011.0</td>\n",
       "    </tr>\n",
       "    <tr>\n",
       "      <th>9122</th>\n",
       "      <td>163949</td>\n",
       "      <td>2531318</td>\n",
       "      <td>391698.0</td>\n",
       "    </tr>\n",
       "    <tr>\n",
       "      <th>9123</th>\n",
       "      <td>164977</td>\n",
       "      <td>27660</td>\n",
       "      <td>137608.0</td>\n",
       "    </tr>\n",
       "    <tr>\n",
       "      <th>9124</th>\n",
       "      <td>164979</td>\n",
       "      <td>3447228</td>\n",
       "      <td>410803.0</td>\n",
       "    </tr>\n",
       "  </tbody>\n",
       "</table>\n",
       "<p>9125 rows × 3 columns</p>\n",
       "</div>"
      ],
      "text/plain": [
       "      movieId   imdbId    tmdbId\n",
       "0           1   114709     862.0\n",
       "1           2   113497    8844.0\n",
       "2           3   113228   15602.0\n",
       "3           4   114885   31357.0\n",
       "4           5   113041   11862.0\n",
       "...       ...      ...       ...\n",
       "9120   162672  3859980  402672.0\n",
       "9121   163056  4262980  315011.0\n",
       "9122   163949  2531318  391698.0\n",
       "9123   164977    27660  137608.0\n",
       "9124   164979  3447228  410803.0\n",
       "\n",
       "[9125 rows x 3 columns]"
      ]
     },
     "execution_count": 30,
     "metadata": {},
     "output_type": "execute_result"
    }
   ],
   "source": [
    "ids=pd.read_csv('../input/the-movies-dataset/links_small.csv')\n",
    "ids"
   ]
  },
  {
   "cell_type": "code",
   "execution_count": 31,
   "id": "57bdcfbe",
   "metadata": {
    "execution": {
     "iopub.execute_input": "2023-02-14T13:15:20.980920Z",
     "iopub.status.busy": "2023-02-14T13:15:20.980336Z",
     "iopub.status.idle": "2023-02-14T13:15:21.134142Z",
     "shell.execute_reply": "2023-02-14T13:15:21.132589Z"
    },
    "papermill": {
     "duration": 0.176184,
     "end_time": "2023-02-14T13:15:21.138438",
     "exception": false,
     "start_time": "2023-02-14T13:15:20.962254",
     "status": "completed"
    },
    "tags": []
   },
   "outputs": [
    {
     "data": {
      "text/plain": [
       "(100004, 4)"
      ]
     },
     "execution_count": 31,
     "metadata": {},
     "output_type": "execute_result"
    }
   ],
   "source": [
    "from surprise import Reader, Dataset, SVD\n",
    "reader = Reader()\n",
    "ratings = pd.read_csv('../input/the-movies-dataset/ratings_small.csv')\n",
    "ratings.shape"
   ]
  },
  {
   "cell_type": "markdown",
   "id": "9d9637d3",
   "metadata": {
    "papermill": {
     "duration": 0.015757,
     "end_time": "2023-02-14T13:15:21.170462",
     "exception": false,
     "start_time": "2023-02-14T13:15:21.154705",
     "status": "completed"
    },
    "tags": []
   },
   "source": [
    "In order to make this model, we will use SVD. \n",
    "SVD stands for Singular Value Decomposition, which is a mathematical technique that is commonly used in tasks such as our movie recommendation systems. Imagine you have a giant spreadsheet with a list of all the movies that people have watched and rated. SVD is a way to take that giant spreadsheet and simplify it into something more manageable.\n",
    "\n",
    "The idea is to represent each movie and each person as a vector, with each entry in the vector representing the rating of a particular movie by a particular person. Using SVD, we can find new vectors that describe both the movies and the people in a way that makes it easy to make recommendations.\n",
    "\n",
    "The key insight of SVD is that not all of the information in the spreadsheet is equally important. Some movies are rated more highly by many people, while others are only liked by a few. Some people rate a lot of movies, while others only rate a few. SVD takes all of this into account and finds the most important information, then uses that information to make recommendations."
   ]
  },
  {
   "cell_type": "code",
   "execution_count": 32,
   "id": "9229c080",
   "metadata": {
    "execution": {
     "iopub.execute_input": "2023-02-14T13:15:21.206360Z",
     "iopub.status.busy": "2023-02-14T13:15:21.205434Z",
     "iopub.status.idle": "2023-02-14T13:15:21.330373Z",
     "shell.execute_reply": "2023-02-14T13:15:21.328931Z"
    },
    "papermill": {
     "duration": 0.147349,
     "end_time": "2023-02-14T13:15:21.334668",
     "exception": false,
     "start_time": "2023-02-14T13:15:21.187319",
     "status": "completed"
    },
    "tags": []
   },
   "outputs": [],
   "source": [
    "data = Dataset.load_from_df(ratings[['userId', 'movieId', 'rating']], reader)\n",
    "svd = SVD()"
   ]
  },
  {
   "cell_type": "code",
   "execution_count": 33,
   "id": "a829a335",
   "metadata": {
    "execution": {
     "iopub.execute_input": "2023-02-14T13:15:21.370407Z",
     "iopub.status.busy": "2023-02-14T13:15:21.369937Z",
     "iopub.status.idle": "2023-02-14T13:15:54.713758Z",
     "shell.execute_reply": "2023-02-14T13:15:54.712267Z"
    },
    "papermill": {
     "duration": 33.389474,
     "end_time": "2023-02-14T13:15:54.741330",
     "exception": false,
     "start_time": "2023-02-14T13:15:21.351856",
     "status": "completed"
    },
    "tags": []
   },
   "outputs": [
    {
     "name": "stdout",
     "output_type": "stream",
     "text": [
      "Evaluating RMSE, MAE of algorithm SVD on 5 split(s).\n",
      "\n",
      "                  Fold 1  Fold 2  Fold 3  Fold 4  Fold 5  Mean    Std     \n",
      "RMSE (testset)    0.8942  0.9006  0.9028  0.8906  0.8957  0.8968  0.0044  \n",
      "MAE (testset)     0.6906  0.6925  0.6948  0.6850  0.6881  0.6902  0.0034  \n",
      "Fit time          6.45    6.28    6.13    6.11    6.25    6.24    0.12    \n",
      "Test time         0.17    0.17    0.34    0.16    0.20    0.21    0.07    \n"
     ]
    },
    {
     "data": {
      "text/plain": [
       "{'test_rmse': array([0.89424891, 0.90064151, 0.90275985, 0.89055824, 0.89573448]),\n",
       " 'test_mae': array([0.69058602, 0.6925344 , 0.69477428, 0.68499648, 0.68812467]),\n",
       " 'fit_time': (6.4469895362854,\n",
       "  6.283807992935181,\n",
       "  6.134940147399902,\n",
       "  6.109995603561401,\n",
       "  6.247720241546631),\n",
       " 'test_time': (0.1746964454650879,\n",
       "  0.1654524803161621,\n",
       "  0.33745789527893066,\n",
       "  0.16065096855163574,\n",
       "  0.2020871639251709)}"
      ]
     },
     "execution_count": 33,
     "metadata": {},
     "output_type": "execute_result"
    }
   ],
   "source": [
    "from surprise.model_selection import cross_validate\n",
    "cross_validate(svd, data, measures=['RMSE', 'MAE'], cv=5, verbose=True)"
   ]
  },
  {
   "cell_type": "code",
   "execution_count": 34,
   "id": "dc8ee012",
   "metadata": {
    "execution": {
     "iopub.execute_input": "2023-02-14T13:15:54.784769Z",
     "iopub.status.busy": "2023-02-14T13:15:54.783473Z",
     "iopub.status.idle": "2023-02-14T13:16:02.126773Z",
     "shell.execute_reply": "2023-02-14T13:16:02.124688Z"
    },
    "papermill": {
     "duration": 7.366357,
     "end_time": "2023-02-14T13:16:02.129917",
     "exception": false,
     "start_time": "2023-02-14T13:15:54.763560",
     "status": "completed"
    },
    "tags": []
   },
   "outputs": [
    {
     "data": {
      "text/plain": [
       "<surprise.prediction_algorithms.matrix_factorization.SVD at 0x7fa948db6110>"
      ]
     },
     "execution_count": 34,
     "metadata": {},
     "output_type": "execute_result"
    }
   ],
   "source": [
    "trainset = data.build_full_trainset()\n",
    "svd.fit(trainset)"
   ]
  },
  {
   "cell_type": "code",
   "execution_count": null,
   "id": "df78fa8b",
   "metadata": {
    "papermill": {
     "duration": 0.016237,
     "end_time": "2023-02-14T13:16:02.161315",
     "exception": false,
     "start_time": "2023-02-14T13:16:02.145078",
     "status": "completed"
    },
    "tags": []
   },
   "outputs": [],
   "source": []
  },
  {
   "cell_type": "code",
   "execution_count": 35,
   "id": "3231a4bd",
   "metadata": {
    "execution": {
     "iopub.execute_input": "2023-02-14T13:16:02.196198Z",
     "iopub.status.busy": "2023-02-14T13:16:02.195738Z",
     "iopub.status.idle": "2023-02-14T13:16:02.217236Z",
     "shell.execute_reply": "2023-02-14T13:16:02.215520Z"
    },
    "papermill": {
     "duration": 0.04287,
     "end_time": "2023-02-14T13:16:02.220896",
     "exception": false,
     "start_time": "2023-02-14T13:16:02.178026",
     "status": "completed"
    },
    "tags": []
   },
   "outputs": [
    {
     "data": {
      "text/html": [
       "<div>\n",
       "<style scoped>\n",
       "    .dataframe tbody tr th:only-of-type {\n",
       "        vertical-align: middle;\n",
       "    }\n",
       "\n",
       "    .dataframe tbody tr th {\n",
       "        vertical-align: top;\n",
       "    }\n",
       "\n",
       "    .dataframe thead th {\n",
       "        text-align: right;\n",
       "    }\n",
       "</style>\n",
       "<table border=\"1\" class=\"dataframe\">\n",
       "  <thead>\n",
       "    <tr style=\"text-align: right;\">\n",
       "      <th></th>\n",
       "      <th>userId</th>\n",
       "      <th>movieId</th>\n",
       "      <th>rating</th>\n",
       "      <th>timestamp</th>\n",
       "    </tr>\n",
       "  </thead>\n",
       "  <tbody>\n",
       "    <tr>\n",
       "      <th>0</th>\n",
       "      <td>1</td>\n",
       "      <td>31</td>\n",
       "      <td>2.5</td>\n",
       "      <td>1260759144</td>\n",
       "    </tr>\n",
       "    <tr>\n",
       "      <th>1</th>\n",
       "      <td>1</td>\n",
       "      <td>1029</td>\n",
       "      <td>3.0</td>\n",
       "      <td>1260759179</td>\n",
       "    </tr>\n",
       "    <tr>\n",
       "      <th>2</th>\n",
       "      <td>1</td>\n",
       "      <td>1061</td>\n",
       "      <td>3.0</td>\n",
       "      <td>1260759182</td>\n",
       "    </tr>\n",
       "    <tr>\n",
       "      <th>3</th>\n",
       "      <td>1</td>\n",
       "      <td>1129</td>\n",
       "      <td>2.0</td>\n",
       "      <td>1260759185</td>\n",
       "    </tr>\n",
       "    <tr>\n",
       "      <th>4</th>\n",
       "      <td>1</td>\n",
       "      <td>1172</td>\n",
       "      <td>4.0</td>\n",
       "      <td>1260759205</td>\n",
       "    </tr>\n",
       "    <tr>\n",
       "      <th>5</th>\n",
       "      <td>1</td>\n",
       "      <td>1263</td>\n",
       "      <td>2.0</td>\n",
       "      <td>1260759151</td>\n",
       "    </tr>\n",
       "    <tr>\n",
       "      <th>6</th>\n",
       "      <td>1</td>\n",
       "      <td>1287</td>\n",
       "      <td>2.0</td>\n",
       "      <td>1260759187</td>\n",
       "    </tr>\n",
       "    <tr>\n",
       "      <th>7</th>\n",
       "      <td>1</td>\n",
       "      <td>1293</td>\n",
       "      <td>2.0</td>\n",
       "      <td>1260759148</td>\n",
       "    </tr>\n",
       "    <tr>\n",
       "      <th>8</th>\n",
       "      <td>1</td>\n",
       "      <td>1339</td>\n",
       "      <td>3.5</td>\n",
       "      <td>1260759125</td>\n",
       "    </tr>\n",
       "    <tr>\n",
       "      <th>9</th>\n",
       "      <td>1</td>\n",
       "      <td>1343</td>\n",
       "      <td>2.0</td>\n",
       "      <td>1260759131</td>\n",
       "    </tr>\n",
       "    <tr>\n",
       "      <th>10</th>\n",
       "      <td>1</td>\n",
       "      <td>1371</td>\n",
       "      <td>2.5</td>\n",
       "      <td>1260759135</td>\n",
       "    </tr>\n",
       "    <tr>\n",
       "      <th>11</th>\n",
       "      <td>1</td>\n",
       "      <td>1405</td>\n",
       "      <td>1.0</td>\n",
       "      <td>1260759203</td>\n",
       "    </tr>\n",
       "    <tr>\n",
       "      <th>12</th>\n",
       "      <td>1</td>\n",
       "      <td>1953</td>\n",
       "      <td>4.0</td>\n",
       "      <td>1260759191</td>\n",
       "    </tr>\n",
       "    <tr>\n",
       "      <th>13</th>\n",
       "      <td>1</td>\n",
       "      <td>2105</td>\n",
       "      <td>4.0</td>\n",
       "      <td>1260759139</td>\n",
       "    </tr>\n",
       "    <tr>\n",
       "      <th>14</th>\n",
       "      <td>1</td>\n",
       "      <td>2150</td>\n",
       "      <td>3.0</td>\n",
       "      <td>1260759194</td>\n",
       "    </tr>\n",
       "    <tr>\n",
       "      <th>15</th>\n",
       "      <td>1</td>\n",
       "      <td>2193</td>\n",
       "      <td>2.0</td>\n",
       "      <td>1260759198</td>\n",
       "    </tr>\n",
       "    <tr>\n",
       "      <th>16</th>\n",
       "      <td>1</td>\n",
       "      <td>2294</td>\n",
       "      <td>2.0</td>\n",
       "      <td>1260759108</td>\n",
       "    </tr>\n",
       "    <tr>\n",
       "      <th>17</th>\n",
       "      <td>1</td>\n",
       "      <td>2455</td>\n",
       "      <td>2.5</td>\n",
       "      <td>1260759113</td>\n",
       "    </tr>\n",
       "    <tr>\n",
       "      <th>18</th>\n",
       "      <td>1</td>\n",
       "      <td>2968</td>\n",
       "      <td>1.0</td>\n",
       "      <td>1260759200</td>\n",
       "    </tr>\n",
       "    <tr>\n",
       "      <th>19</th>\n",
       "      <td>1</td>\n",
       "      <td>3671</td>\n",
       "      <td>3.0</td>\n",
       "      <td>1260759117</td>\n",
       "    </tr>\n",
       "  </tbody>\n",
       "</table>\n",
       "</div>"
      ],
      "text/plain": [
       "    userId  movieId  rating   timestamp\n",
       "0        1       31     2.5  1260759144\n",
       "1        1     1029     3.0  1260759179\n",
       "2        1     1061     3.0  1260759182\n",
       "3        1     1129     2.0  1260759185\n",
       "4        1     1172     4.0  1260759205\n",
       "5        1     1263     2.0  1260759151\n",
       "6        1     1287     2.0  1260759187\n",
       "7        1     1293     2.0  1260759148\n",
       "8        1     1339     3.5  1260759125\n",
       "9        1     1343     2.0  1260759131\n",
       "10       1     1371     2.5  1260759135\n",
       "11       1     1405     1.0  1260759203\n",
       "12       1     1953     4.0  1260759191\n",
       "13       1     2105     4.0  1260759139\n",
       "14       1     2150     3.0  1260759194\n",
       "15       1     2193     2.0  1260759198\n",
       "16       1     2294     2.0  1260759108\n",
       "17       1     2455     2.5  1260759113\n",
       "18       1     2968     1.0  1260759200\n",
       "19       1     3671     3.0  1260759117"
      ]
     },
     "execution_count": 35,
     "metadata": {},
     "output_type": "execute_result"
    }
   ],
   "source": [
    "ratings[ratings['userId'] == 1]"
   ]
  },
  {
   "cell_type": "markdown",
   "id": "44a744da",
   "metadata": {
    "papermill": {
     "duration": 0.015072,
     "end_time": "2023-02-14T13:16:02.252384",
     "exception": false,
     "start_time": "2023-02-14T13:16:02.237312",
     "status": "completed"
    },
    "tags": []
   },
   "source": [
    "Lets try to see a prediction for our userid 1 and see what we get for a movie with index 302..."
   ]
  },
  {
   "cell_type": "code",
   "execution_count": 36,
   "id": "7765b4fc",
   "metadata": {
    "execution": {
     "iopub.execute_input": "2023-02-14T13:16:02.284749Z",
     "iopub.status.busy": "2023-02-14T13:16:02.284296Z",
     "iopub.status.idle": "2023-02-14T13:16:02.293837Z",
     "shell.execute_reply": "2023-02-14T13:16:02.292331Z"
    },
    "papermill": {
     "duration": 0.028799,
     "end_time": "2023-02-14T13:16:02.296375",
     "exception": false,
     "start_time": "2023-02-14T13:16:02.267576",
     "status": "completed"
    },
    "tags": []
   },
   "outputs": [
    {
     "data": {
      "text/plain": [
       "Prediction(uid=1, iid=302, r_ui=3, est=2.81023513793083, details={'was_impossible': False})"
      ]
     },
     "execution_count": 36,
     "metadata": {},
     "output_type": "execute_result"
    }
   ],
   "source": [
    "svd.predict(1, 302, 3)"
   ]
  },
  {
   "cell_type": "markdown",
   "id": "e76b1b41",
   "metadata": {
    "papermill": {
     "duration": 0.019686,
     "end_time": "2023-02-14T13:16:02.333600",
     "exception": false,
     "start_time": "2023-02-14T13:16:02.313914",
     "status": "completed"
    },
    "tags": []
   },
   "source": [
    "Interesting! It predicts around 2.7 which is a relatively average score for a movie. Notice how SVD does not require us to use the movie details. It is not considered with any details of the movie at all.  \n",
    "We've made all our different models and identified each ones strengths as well.\n",
    "Thats all for todays notebook, have a great day ahead!"
   ]
  },
  {
   "cell_type": "code",
   "execution_count": 37,
   "id": "f584c676",
   "metadata": {
    "execution": {
     "iopub.execute_input": "2023-02-14T13:16:02.370846Z",
     "iopub.status.busy": "2023-02-14T13:16:02.370361Z",
     "iopub.status.idle": "2023-02-14T13:16:05.201077Z",
     "shell.execute_reply": "2023-02-14T13:16:05.199734Z"
    },
    "papermill": {
     "duration": 2.851544,
     "end_time": "2023-02-14T13:16:05.204193",
     "exception": false,
     "start_time": "2023-02-14T13:16:02.352649",
     "status": "completed"
    },
    "tags": []
   },
   "outputs": [
    {
     "data": {
      "text/plain": [
       "['svdmodel.pkl']"
      ]
     },
     "execution_count": 37,
     "metadata": {},
     "output_type": "execute_result"
    }
   ],
   "source": [
    "import joblib\n",
    "joblib.dump(svd, 'svdmodel.pkl')"
   ]
  },
  {
   "cell_type": "code",
   "execution_count": 38,
   "id": "2436d568",
   "metadata": {
    "execution": {
     "iopub.execute_input": "2023-02-14T13:16:05.239620Z",
     "iopub.status.busy": "2023-02-14T13:16:05.239152Z",
     "iopub.status.idle": "2023-02-14T13:16:06.374671Z",
     "shell.execute_reply": "2023-02-14T13:16:06.373022Z"
    },
    "papermill": {
     "duration": 1.158339,
     "end_time": "2023-02-14T13:16:06.378219",
     "exception": false,
     "start_time": "2023-02-14T13:16:05.219880",
     "status": "completed"
    },
    "tags": []
   },
   "outputs": [],
   "source": [
    "loaded_model = joblib.load('svdmodel.pkl')"
   ]
  },
  {
   "cell_type": "code",
   "execution_count": 39,
   "id": "9259275b",
   "metadata": {
    "execution": {
     "iopub.execute_input": "2023-02-14T13:16:06.415935Z",
     "iopub.status.busy": "2023-02-14T13:16:06.415445Z",
     "iopub.status.idle": "2023-02-14T13:16:06.425022Z",
     "shell.execute_reply": "2023-02-14T13:16:06.422953Z"
    },
    "papermill": {
     "duration": 0.032308,
     "end_time": "2023-02-14T13:16:06.428838",
     "exception": false,
     "start_time": "2023-02-14T13:16:06.396530",
     "status": "completed"
    },
    "tags": []
   },
   "outputs": [
    {
     "data": {
      "text/plain": [
       "Prediction(uid=1, iid=302, r_ui=3, est=2.81023513793083, details={'was_impossible': False})"
      ]
     },
     "execution_count": 39,
     "metadata": {},
     "output_type": "execute_result"
    }
   ],
   "source": [
    "loaded_model.predict(1, 302, 3)"
   ]
  }
 ],
 "metadata": {
  "kernelspec": {
   "display_name": "Python 3",
   "language": "python",
   "name": "python3"
  },
  "language_info": {
   "codemirror_mode": {
    "name": "ipython",
    "version": 3
   },
   "file_extension": ".py",
   "mimetype": "text/x-python",
   "name": "python",
   "nbconvert_exporter": "python",
   "pygments_lexer": "ipython3",
   "version": "3.7.12"
  },
  "papermill": {
   "default_parameters": {},
   "duration": 74.389761,
   "end_time": "2023-02-14T13:16:07.675000",
   "environment_variables": {},
   "exception": null,
   "input_path": "__notebook__.ipynb",
   "output_path": "__notebook__.ipynb",
   "parameters": {},
   "start_time": "2023-02-14T13:14:53.285239",
   "version": "2.3.4"
  }
 },
 "nbformat": 4,
 "nbformat_minor": 5
}
